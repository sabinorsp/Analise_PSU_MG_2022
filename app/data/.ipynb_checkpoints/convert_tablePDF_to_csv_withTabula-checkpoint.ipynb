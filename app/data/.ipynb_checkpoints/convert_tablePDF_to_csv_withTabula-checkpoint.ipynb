{
 "cells": [
  {
   "cell_type": "markdown",
   "id": "6fe197b1",
   "metadata": {
    "ExecuteTime": {
     "end_time": "2022-10-13T21:41:32.115344Z",
     "start_time": "2022-10-13T21:41:26.045755Z"
    }
   },
   "source": [
    "   # Usando tabula para converter tabelas pdf to dataframe pandas"
   ]
  },
  {
   "cell_type": "code",
   "execution_count": 3,
   "id": "23c8d7c6",
   "metadata": {
    "ExecuteTime": {
     "end_time": "2022-10-14T14:51:57.311449Z",
     "start_time": "2022-10-14T14:51:57.307033Z"
    }
   },
   "outputs": [],
   "source": [
    "from tabula import convert_into\n",
    "from tabula import read_pdf\n",
    "import pandas as pd"
   ]
  },
  {
   "cell_type": "code",
   "execution_count": 42,
   "id": "6f338413",
   "metadata": {
    "ExecuteTime": {
     "end_time": "2022-10-14T03:00:14.113434Z",
     "start_time": "2022-10-14T02:58:31.588307Z"
    }
   },
   "outputs": [],
   "source": [
    "\n",
    "table_file = \"resultados_residencias.pdf\"\n",
    "output_csv = \"resultados_residencia.csv\"\n",
    "df = convert_into(table_file, output_csv, output_format='csv', stream=True , pages='3-426')"
   ]
  }
 ],
 "metadata": {
  "kernelspec": {
   "display_name": "Python 3 (ipykernel)",
   "language": "python",
   "name": "python3"
  },
  "language_info": {
   "codemirror_mode": {
    "name": "ipython",
    "version": 3
   },
   "file_extension": ".py",
   "mimetype": "text/x-python",
   "name": "python",
   "nbconvert_exporter": "python",
   "pygments_lexer": "ipython3",
   "version": "3.9.7"
  }
 },
 "nbformat": 4,
 "nbformat_minor": 5
}
