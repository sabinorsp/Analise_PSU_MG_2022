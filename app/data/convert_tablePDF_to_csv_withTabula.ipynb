{
 "cells": [
  {
   "cell_type": "markdown",
   "id": "6fe197b1",
   "metadata": {
    "ExecuteTime": {
     "end_time": "2022-10-13T21:41:32.115344Z",
     "start_time": "2022-10-13T21:41:26.045755Z"
    }
   },
   "source": [
    "   # Usando tabula para converter tabelas pdf to dataframe pandas"
   ]
  },
  {
   "cell_type": "code",
   "execution_count": 1,
   "id": "23c8d7c6",
   "metadata": {
    "ExecuteTime": {
     "end_time": "2022-11-22T18:04:36.242634Z",
     "start_time": "2022-11-22T18:04:33.196420Z"
    }
   },
   "outputs": [],
   "source": [
    "from tabula import convert_into\n",
    "from tabula import read_pdf\n",
    "import pandas as pd"
   ]
  },
  {
   "cell_type": "code",
   "execution_count": 2,
   "id": "6f338413",
   "metadata": {
    "ExecuteTime": {
     "end_time": "2022-11-22T18:04:47.614959Z",
     "start_time": "2022-11-22T18:04:38.141297Z"
    }
   },
   "outputs": [
    {
     "name": "stderr",
     "output_type": "stream",
     "text": [
      "Got stderr: nov 22, 2022 2:04:39 PM org.apache.pdfbox.pdmodel.font.FileSystemFontProvider loadDiskCache\n",
      "WARNING: New fonts found, font cache will be re-built\n",
      "nov 22, 2022 2:04:39 PM org.apache.pdfbox.pdmodel.font.FileSystemFontProvider <init>\n",
      "WARNING: Building on-disk font cache, this may take a while\n",
      "nov 22, 2022 2:04:42 PM org.apache.pdfbox.pdmodel.font.FileSystemFontProvider <init>\n",
      "WARNING: Finished building on-disk font cache, found 388 fonts\n",
      "\n"
     ]
    }
   ],
   "source": [
    "\n",
    "table_file = \"RelacaoCandidato-Vaga-PSU2023-20221025120432.pdf\"\n",
    "output_csv = \"relacao_incritos.csv\"\n",
    "df = convert_into(table_file, output_csv, output_format='csv', stream=True , pages='1-15')"
   ]
  }
 ],
 "metadata": {
  "kernelspec": {
   "display_name": "Python 3 (ipykernel)",
   "language": "python",
   "name": "python3"
  },
  "language_info": {
   "codemirror_mode": {
    "name": "ipython",
    "version": 3
   },
   "file_extension": ".py",
   "mimetype": "text/x-python",
   "name": "python",
   "nbconvert_exporter": "python",
   "pygments_lexer": "ipython3",
   "version": "3.9.7"
  }
 },
 "nbformat": 4,
 "nbformat_minor": 5
}
